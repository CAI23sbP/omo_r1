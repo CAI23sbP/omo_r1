{
 "cells": [
  {
   "cell_type": "code",
   "execution_count": 1,
   "metadata": {},
   "outputs": [],
   "source": [
    "import rospy\n",
    "import serial\n",
    "import time\n",
    "from copy import deepcopy\n",
    "\n",
    "from time import sleep\n",
    "from ar_track_alvar_msgs.msg import AlvarMarkers\n",
    "\n",
    "processing = False\n",
    "\n",
    "class TargetPosition:\n",
    "    x = 0.0\n",
    "    y = 0.0"
   ]
  },
  {
   "cell_type": "code",
   "execution_count": 2,
   "metadata": {},
   "outputs": [],
   "source": [
    "target_pos = TargetPosition()\n",
    "\n",
    "def callback(msg):    \n",
    "    global processing, target_pos\n",
    "    \n",
    "    #if not processing:\n",
    "        #processing = True\n",
    "    for each in msg.markers:\n",
    "        marker_id = int(each.id)\n",
    "        target_pos.x = each.pose.pose.position.x\n",
    "        target_pos.y = each.pose.pose.position.y"
   ]
  },
  {
   "cell_type": "code",
   "execution_count": 3,
   "metadata": {},
   "outputs": [],
   "source": [
    "rospy.init_node('SM_robot_control')\n",
    "sub = rospy.Subscriber('ar_pose_marker', AlvarMarkers, callback)"
   ]
  },
  {
   "cell_type": "code",
   "execution_count": 13,
   "metadata": {},
   "outputs": [
    {
     "name": "stdout",
     "output_type": "stream",
     "text": [
      "0.826738070038 0.164603457753\n"
     ]
    }
   ],
   "source": [
    "new_target_pos = TargetPosition()\n",
    "\n",
    "new_target_pos.x = target_pos.x * 2.4 - 0.3\n",
    "new_target_pos.y = target_pos.y * 2.4\n",
    "\n",
    "print new_target_pos.x, new_target_pos.y"
   ]
  },
  {
   "cell_type": "code",
   "execution_count": 14,
   "metadata": {},
   "outputs": [],
   "source": [
    "import actionlib\n",
    "import omo_r1mini_simple_position_controller.msg\n",
    "from omo_r1mini_simple_position_controller.msg import VanillaPositionGoal\n",
    "\n",
    "goal_pos = VanillaPositionGoal()\n",
    "goal_pos.x = new_target_pos.x\n",
    "goal_pos.y = new_target_pos.y\n",
    "\n",
    "client = actionlib.SimpleActionClient('vanilla_position_controller', \n",
    "                                      omo_r1mini_simple_position_controller.msg.VanillaPositionAction)\n",
    "client.wait_for_server()\n",
    "client.send_goal(goal_pos)"
   ]
  },
  {
   "cell_type": "code",
   "execution_count": 12,
   "metadata": {},
   "outputs": [],
   "source": [
    "import actionlib\n",
    "import omo_r1mini_simple_position_controller.msg\n",
    "from omo_r1mini_simple_position_controller.msg import VanillaPositionGoal\n",
    "\n",
    "goal_pos = VanillaPositionGoal()\n",
    "goal_pos.x = 0.\n",
    "goal_pos.y = 0.\n",
    "goal_pos.theta = 10*3.141592/180 #3.14 #rad\n",
    "\n",
    "client = actionlib.SimpleActionClient('vanilla_position_controller', \n",
    "                                      omo_r1mini_simple_position_controller.msg.VanillaPositionAction)\n",
    "client.wait_for_server()\n",
    "client.send_goal(goal_pos)"
   ]
  },
  {
   "cell_type": "code",
   "execution_count": null,
   "metadata": {},
   "outputs": [],
   "source": []
  }
 ],
 "metadata": {
  "kernelspec": {
   "display_name": "Python 2",
   "language": "python",
   "name": "python2"
  },
  "language_info": {
   "codemirror_mode": {
    "name": "ipython",
    "version": 2
   },
   "file_extension": ".py",
   "mimetype": "text/x-python",
   "name": "python",
   "nbconvert_exporter": "python",
   "pygments_lexer": "ipython2",
   "version": "2.7.17"
  }
 },
 "nbformat": 4,
 "nbformat_minor": 2
}
