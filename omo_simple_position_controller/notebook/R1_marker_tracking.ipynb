{
 "cells": [
  {
   "cell_type": "code",
   "execution_count": 1,
   "metadata": {},
   "outputs": [],
   "source": [
    "import numpy as np\n",
    "\n",
    "import rospy\n",
    "import actionlib\n",
    "from omo_simple_position_controller.msg import VanillaPositionAction, VanillaPositionGoal\n",
    "from ar_track_alvar_msgs.msg import AlvarMarkers\n",
    "\n",
    "from tf.transformations import euler_from_quaternion\n",
    "\n",
    "rospy.init_node('marker_tracker')"
   ]
  },
  {
   "cell_type": "code",
   "execution_count": 2,
   "metadata": {},
   "outputs": [],
   "source": [
    "target_marker = {\n",
    "    'id' : -1,\n",
    "    'x_pos' : 0.,\n",
    "    'y_pos' : 0.,\n",
    "    'direction' : 0.,\n",
    "    'x_slope' : 1.1,\n",
    "    'x_bias' : 0.,\n",
    "    'y_slope' : 1.,\n",
    "    'y_bias' : 0.,\n",
    "}\n",
    "\n",
    "next_marker = {\n",
    "    'id' : -1,\n",
    "    'x_pos' : 0.,\n",
    "    'y_pos' : 0.,\n",
    "    'direction' : 0.,\n",
    "}"
   ]
  },
  {
   "cell_type": "code",
   "execution_count": 3,
   "metadata": {},
   "outputs": [],
   "source": [
    "def sub_markers_callback(msg):\n",
    "    global target_marker, next_marker\n",
    "    \n",
    "    marker_id = []\n",
    "    length = []\n",
    "\n",
    "    x_pos = []\n",
    "    y_pos = []\n",
    "    z_pos = []\n",
    "    ori_x = []\n",
    "    ori_y = []\n",
    "    ori_z = []\n",
    "    \n",
    "    for each in msg.markers:\n",
    "        marker_id.append(each.id)\n",
    "        \n",
    "        x = each.pose.pose.position.x\n",
    "        y = each.pose.pose.position.y\n",
    "        z = each.pose.pose.position.z\n",
    "\n",
    "        x_pos.append(x)\n",
    "        y_pos.append(y)\n",
    "        z_pos.append(z)\n",
    "        \n",
    "        length.append(np.sqrt(x**2 + y**2 + z**2))\n",
    "\n",
    "        r, p, th = euler_from_quaternion([each.pose.pose.orientation.x, \n",
    "                                          each.pose.pose.orientation.y, \n",
    "                                          each.pose.pose.orientation.z, \n",
    "                                          each.pose.pose.orientation.w])\n",
    "\n",
    "        ori_x.append(r)\n",
    "        ori_y.append(p)\n",
    "        ori_z.append(th)\n",
    "        \n",
    "    if len(length)>0:\n",
    "        idx_sort = np.argpartition(np.array(length), 0)\n",
    "        idx = np.argmin(idx_sort)\n",
    "        target_marker['id'] = marker_id[idx]\n",
    "        target_marker['x_pos'] = target_marker['x_slope'] * x_pos[idx] + target_marker['x_bias']\n",
    "        target_marker['y_pos'] = target_marker['y_slope'] * y_pos[idx] + target_marker['y_bias']\n",
    "        \n",
    "        if len(idx_sort)>1:\n",
    "            next_idx = int(np.where(idx_sort==1)[0])\n",
    "            next_marker['id'] = marker_id[next_idx]\n",
    "            next_marker['x_pos'] = target_marker['x_slope'] * x_pos[next_idx] + target_marker['x_bias']\n",
    "            next_marker['y_pos'] = target_marker['y_slope'] * y_pos[next_idx] + target_marker['y_bias']\n",
    "            \n",
    "        else:\n",
    "            next_marker['id'] = -1\n",
    "        \n",
    "    else:\n",
    "        target_marker['id'] = -1\n",
    "        \n",
    "\n",
    "sub_markers = rospy.Subscriber('ar_pose_marker', AlvarMarkers, sub_markers_callback)"
   ]
  },
  {
   "cell_type": "code",
   "execution_count": 4,
   "metadata": {
    "scrolled": true
   },
   "outputs": [
    {
     "data": {
      "text/plain": [
       "{'direction': 0.0,\n",
       " 'id': -1,\n",
       " 'x_bias': 0.0,\n",
       " 'x_pos': 0.0,\n",
       " 'x_slope': 1.1,\n",
       " 'y_bias': 0.0,\n",
       " 'y_pos': 0.0,\n",
       " 'y_slope': 1.0}"
      ]
     },
     "execution_count": 4,
     "metadata": {},
     "output_type": "execute_result"
    }
   ],
   "source": [
    "target_marker"
   ]
  },
  {
   "cell_type": "code",
   "execution_count": 5,
   "metadata": {},
   "outputs": [
    {
     "data": {
      "text/plain": [
       "{'direction': 0.0, 'id': -1, 'x_pos': 0.0, 'y_pos': 0.0}"
      ]
     },
     "execution_count": 5,
     "metadata": {},
     "output_type": "execute_result"
    }
   ],
   "source": [
    "next_marker"
   ]
  },
  {
   "cell_type": "code",
   "execution_count": 6,
   "metadata": {},
   "outputs": [],
   "source": [
    "from geometry_msgs.msg import Twist\n",
    "\n",
    "pub = rospy.Publisher(\"/cmd_vel\", Twist, queue_size = 1)"
   ]
  },
  {
   "cell_type": "code",
   "execution_count": 7,
   "metadata": {},
   "outputs": [],
   "source": [
    "def move_robot(x, y, th):\n",
    "    from omo_simple_position_controller.msg import VanillaPositionAction, VanillaPositionGoal\n",
    "    \n",
    "    goal_pos = VanillaPositionGoal()\n",
    "    goal_pos.x = x\n",
    "    goal_pos.y = y\n",
    "    goal_pos.theta = th\n",
    "    \n",
    "    client = actionlib.SimpleActionClient('vanilla_position_controller', VanillaPositionAction)\n",
    "    \n",
    "    client.send_goal(goal_pos)"
   ]
  },
  {
   "cell_type": "code",
   "execution_count": 8,
   "metadata": {},
   "outputs": [],
   "source": [
    "is_target_0 = bool(target_marker['id'] == 0)\n",
    "is_target_1 = bool(target_marker['id'] == 1)\n",
    "is_target_2 = bool(target_marker['id'] == 2)\n",
    "is_next_target_0 = bool(next_marker['id'] == 0)\n",
    "is_next_target_1 = bool(next_marker['id'] == 1)\n",
    "is_next_target_2 = bool(next_marker['id'] == 2)"
   ]
  },
  {
   "cell_type": "code",
   "execution_count": 17,
   "metadata": {},
   "outputs": [
    {
     "data": {
      "text/plain": [
       "(True, False, False, False)"
      ]
     },
     "execution_count": 17,
     "metadata": {},
     "output_type": "execute_result"
    }
   ],
   "source": [
    "is_target_0, is_next_target_1, is_target_1, is_next_target_0"
   ]
  },
  {
   "cell_type": "code",
   "execution_count": null,
   "metadata": {},
   "outputs": [],
   "source": [
    "sub_markers = rospy.Subscriber('ar_pose_marker', AlvarMarkers, sub_markers_callback)\n",
    "\n",
    "while True:\n",
    "    process = False\n",
    "    if target_marker['id'] == 0:\n",
    "        process = True\n",
    "        while process:\n",
    "            print \"== move 0\"\n",
    "            print target_marker['x_pos'], target_marker['y_pos'], 0.\n",
    "            #move_robot(target_marker['x_pos'], target_marker['y_pos'], 0.)\n",
    "        \n",
    "    if target_marker['id'] == 1:\n",
    "        process = True\n",
    "        while process:\n",
    "            print \"== move 1\"\n",
    "            print target_marker['x_pos'], target_marker['y_pos'], 0.\n",
    "            #move_robot(target_marker['x_pos'], target_marker['y_pos'], 0.)\n",
    "    \n",
    "    \n",
    "    \n",
    "#     if is_target_0 & is_next_target_1:\n",
    "#         while is_target_0:\n",
    "#             print \"== move 01\"\n",
    "#             #move_robot(target_marker['x_pos'], target_marker['y_pos'], 0.)\n",
    "            \n",
    "#     if is_target_1 & is_next_target_0:\n",
    "#         while is_target_1:\n",
    "#             print \"== move 10\"\n",
    "            #move_robot(target_marker['x_pos'], target_marker['y_pos'], 0.)\n",
    "    \n",
    "    \n",
    "#     if (is_target_0 & is_next_target_1) | (is_target_1 & is_next_target_0):\n",
    "#         trace_marker = target_marke['id']\n",
    "#         while target_marker['x_pos'] > 0.5:\n",
    "#             move_robot(target_marker['x_pos'], target_marker['y_pos'], 0.)"
   ]
  },
  {
   "cell_type": "code",
   "execution_count": 19,
   "metadata": {},
   "outputs": [
    {
     "data": {
      "text/plain": [
       "{'direction': 0.0,\n",
       " 'id': 1,\n",
       " 'x_bias': 0.0,\n",
       " 'x_pos': 0.8807476027238079,\n",
       " 'x_slope': 1.1,\n",
       " 'y_bias': 0.0,\n",
       " 'y_pos': 0.08107104483601511,\n",
       " 'y_slope': 1.0}"
      ]
     },
     "execution_count": 19,
     "metadata": {},
     "output_type": "execute_result"
    }
   ],
   "source": [
    "target_marker"
   ]
  },
  {
   "cell_type": "code",
   "execution_count": 20,
   "metadata": {},
   "outputs": [],
   "source": [
    "move_robot(target_marker['x_pos'], target_marker['y_pos'], 0.)"
   ]
  },
  {
   "cell_type": "code",
   "execution_count": null,
   "metadata": {},
   "outputs": [],
   "source": []
  },
  {
   "cell_type": "code",
   "execution_count": null,
   "metadata": {},
   "outputs": [],
   "source": []
  }
 ],
 "metadata": {
  "kernelspec": {
   "display_name": "Python 2",
   "language": "python",
   "name": "python2"
  },
  "language_info": {
   "codemirror_mode": {
    "name": "ipython",
    "version": 2
   },
   "file_extension": ".py",
   "mimetype": "text/x-python",
   "name": "python",
   "nbconvert_exporter": "python",
   "pygments_lexer": "ipython2",
   "version": "2.7.17"
  }
 },
 "nbformat": 4,
 "nbformat_minor": 2
}
